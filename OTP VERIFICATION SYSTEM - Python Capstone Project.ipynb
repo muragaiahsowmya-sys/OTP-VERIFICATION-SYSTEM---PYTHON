{
  "nbformat": 4,
  "nbformat_minor": 0,
  "metadata": {
    "colab": {
      "provenance": []
    },
    "kernelspec": {
      "name": "python3",
      "display_name": "Python 3"
    },
    "language_info": {
      "name": "python"
    }
  },
  "cells": [
    {
      "cell_type": "code",
      "source": [],
      "metadata": {
        "id": "N4R4Z04lzLKG"
      },
      "execution_count": null,
      "outputs": []
    },
    {
      "cell_type": "markdown",
      "source": [
        "## **Python - Capstone Project ##**\n",
        "\n",
        "## **Project Title: OTP Verification System ##**\n",
        "\n",
        "**Problem Statement:**\n",
        "\n",
        "You are tasked with developing an OTP (One-Time Password) verification system in Python. The system should generate a 6-digit OTP and send it to the user's email address for verification. Upon receiving the OTP, the user should enter it into the system for validation. If the entered OTP matches the generated OTP, access should be granted; otherwise, access should be denied."
      ],
      "metadata": {
        "id": "3_HXw6Dl0Fwn"
      }
    },
    {
      "cell_type": "code",
      "source": [
        "import random\n",
        "import time\n",
        "\n",
        "def generate_otp():\n",
        "    \"\"\"Generate a 6-digit random OTP.\"\"\"\n",
        "    return str(random.randint(100000, 999999))\n",
        "\n",
        "def send_otp(email):\n",
        "    \"\"\"Simulate sending OTP to user email.\"\"\"\n",
        "    otp = generate_otp()\n",
        "    print(f\"\\n✅ OTP sent to {email} (simulated).\")\n",
        "    print(f\"(For testing, your OTP is: {otp})\")  # remove in production\n",
        "    return otp\n",
        "\n",
        "def verify_otp(generated_otp):\n",
        "    \"\"\"Prompt user to enter OTP and verify it.\"\"\"\n",
        "    attempts = 3\n",
        "    while attempts > 0:\n",
        "        entered_otp = input(\"\\nEnter the 6-digit OTP: \").strip()\n",
        "        if entered_otp == generated_otp:\n",
        "            print(\"\\n✅ OTP Verified Successfully! Access Granted.\")\n",
        "            return True\n",
        "        else:\n",
        "            attempts -= 1\n",
        "            print(f\"❌ Incorrect OTP. {attempts} attempt(s) left.\")\n",
        "    print(\"\\n🚫 Access Denied. Too many incorrect attempts.\")\n",
        "    return False\n",
        "\n",
        "# -------- Main Program --------\n",
        "email = input(\"Enter your email address: \").strip()\n",
        "if email:\n",
        "    otp = send_otp(email)\n",
        "    time.sleep(1)\n",
        "    verify_otp(otp)\n",
        "else:\n",
        "    print(\"⚠️ Please enter a valid email address.\")\n"
      ],
      "metadata": {
        "colab": {
          "base_uri": "https://localhost:8080/"
        },
        "id": "YoMjirS10iUT",
        "outputId": "4069e1f9-ef3b-4bb2-dbf6-8934cecb9d2a"
      },
      "execution_count": 4,
      "outputs": [
        {
          "output_type": "stream",
          "name": "stdout",
          "text": [
            "Enter your email address: muragaiahsowmya@gmail.com\n",
            "\n",
            "✅ OTP sent to muragaiahsowmya@gmail.com (simulated).\n",
            "(For testing, your OTP is: 505111)\n",
            "\n",
            "Enter the 6-digit OTP: 505111\n",
            "\n",
            "✅ OTP Verified Successfully! Access Granted.\n"
          ]
        }
      ]
    },
    {
      "cell_type": "code",
      "source": [
        "import random\n",
        "import time\n",
        "\n",
        "def generate_otp():\n",
        "    \"\"\"Generate a 6-digit random OTP.\"\"\"\n",
        "    return str(random.randint(100000, 999999))\n",
        "\n",
        "def send_otp(email):\n",
        "    \"\"\"Simulate sending OTP to user's email.\"\"\"\n",
        "    otp = generate_otp()\n",
        "    print(f\"\\n✅ OTP sent to {email} (simulated).\")\n",
        "    print(f\"(For testing, your OTP is: {otp})\")  # remove this line in production\n",
        "    return otp, time.time()  # Return OTP and timestamp\n",
        "\n",
        "def verify_otp(generated_otp, otp_time, expiry=30):\n",
        "    \"\"\"Verify user-entered OTP with expiry time.\"\"\"\n",
        "    attempts = 3\n",
        "    while attempts > 0:\n",
        "        entered_otp = input(\"\\nEnter the 6-digit OTP: \").strip()\n",
        "\n",
        "        # Check time expiry\n",
        "        if time.time() - otp_time > expiry:\n",
        "            print(\"\\n⏰ OTP expired! A new OTP will be sent.\")\n",
        "            return \"expired\"\n",
        "\n",
        "        # Check correctness\n",
        "        if entered_otp == generated_otp:\n",
        "            print(\"\\n✅ OTP Verified Successfully! Access Granted.\")\n",
        "            return \"success\"\n",
        "        else:\n",
        "            attempts -= 1\n",
        "            print(f\"❌ Incorrect OTP. {attempts} attempt(s) left.\")\n",
        "\n",
        "    print(\"\\n🚫 Access Denied. Too many incorrect attempts.\")\n",
        "    return \"failed\"\n",
        "\n",
        "# ---------------- Main Program ----------------\n",
        "def otp_system():\n",
        "    email = input(\"Enter your email address: \").strip()\n",
        "    if not email:\n",
        "        print(\"⚠️ Please enter a valid email address.\")\n",
        "        return\n",
        "\n",
        "    while True:\n",
        "        # Step 1: Send OTP\n",
        "        otp, otp_time = send_otp(email)\n",
        "\n",
        "        # Step 2: Verify OTP\n",
        "        result = verify_otp(otp, otp_time)\n",
        "\n",
        "        # Step 3: Handle different cases\n",
        "        if result == \"success\":\n",
        "            break\n",
        "        elif result in (\"expired\", \"failed\"):\n",
        "            choice = input(\"\\nDo you want to regenerate a new OTP? (yes/no): \").strip().lower()\n",
        "            if choice != \"yes\":\n",
        "                print(\"\\n❌ Exiting system. Goodbye!\")\n",
        "                break\n",
        "            else:\n",
        "                print(\"\\n🔁 Generating a new OTP...\")\n",
        "                time.sleep(1)\n",
        "\n",
        "# Run the program\n",
        "otp_system()\n"
      ],
      "metadata": {
        "colab": {
          "base_uri": "https://localhost:8080/"
        },
        "id": "DkC5BEfo1ixb",
        "outputId": "bd6eb87e-6f9f-4fa2-91f5-e19b47b7fcc5"
      },
      "execution_count": 5,
      "outputs": [
        {
          "output_type": "stream",
          "name": "stdout",
          "text": [
            "Enter your email address: muragaiahsowmya@gmail.com\n",
            "\n",
            "✅ OTP sent to muragaiahsowmya@gmail.com (simulated).\n",
            "(For testing, your OTP is: 649880)\n",
            "\n",
            "Enter the 6-digit OTP: 649881\n",
            "❌ Incorrect OTP. 2 attempt(s) left.\n",
            "\n",
            "Enter the 6-digit OTP: 649881\n",
            "\n",
            "⏰ OTP expired! A new OTP will be sent.\n",
            "\n",
            "Do you want to regenerate a new OTP? (yes/no): yes\n",
            "\n",
            "🔁 Generating a new OTP...\n",
            "\n",
            "✅ OTP sent to muragaiahsowmya@gmail.com (simulated).\n",
            "(For testing, your OTP is: 430392)\n",
            "\n",
            "Enter the 6-digit OTP: 430392\n",
            "\n",
            "✅ OTP Verified Successfully! Access Granted.\n"
          ]
        }
      ]
    }
  ]
}